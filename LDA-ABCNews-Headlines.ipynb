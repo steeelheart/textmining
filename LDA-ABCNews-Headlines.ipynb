{
 "cells": [
  {
   "cell_type": "code",
   "execution_count": 1,
   "metadata": {
    "collapsed": true
   },
   "outputs": [],
   "source": [
    "###ref: https://github.com/susanli2016/NLP-with-Python/blob/master/LDA_news_headlines.ipynb\n",
    "import pandas as pd\n",
    "data = pd.read_csv('E:\\\\pythonprog\\\\LDA\\\\abcnews-date-text.csv', error_bad_lines=False);\n",
    "data_text = data[['headline_text']]\n",
    "data_text['index'] = data_text.index\n",
    "documents = data_text"
   ]
  },
  {
   "cell_type": "code",
   "execution_count": null,
   "metadata": {
    "collapsed": true
   },
   "outputs": [],
   "source": [
    "print(len(documents))\n",
    "print(documents[:5])"
   ]
  },
  {
   "cell_type": "code",
   "execution_count": 3,
   "metadata": {
    "collapsed": false
   },
   "outputs": [
    {
     "name": "stdout",
     "output_type": "stream",
     "text": [
      "[nltk_data] Downloading package wordnet to E:\\nltk_data...\n",
      "[nltk_data]   Package wordnet is already up-to-date!\n"
     ]
    },
    {
     "data": {
      "text/plain": [
       "True"
      ]
     },
     "execution_count": 3,
     "metadata": {},
     "output_type": "execute_result"
    }
   ],
   "source": [
    "###Data Preprocessing\n",
    "import gensim\n",
    "from gensim.utils import simple_preprocess\n",
    "from gensim.parsing.preprocessing import STOPWORDS\n",
    "from nltk.stem import WordNetLemmatizer, SnowballStemmer\n",
    "from nltk.stem.porter import *\n",
    "import numpy as np\n",
    "np.random.seed(2018)\n",
    "import nltk\n",
    "nltk.download('wordnet')"
   ]
  },
  {
   "cell_type": "code",
   "execution_count": 4,
   "metadata": {
    "collapsed": false
   },
   "outputs": [
    {
     "name": "stdout",
     "output_type": "stream",
     "text": [
      "go\n"
     ]
    }
   ],
   "source": [
    "print(WordNetLemmatizer().lemmatize('went', pos='v'))"
   ]
  },
  {
   "cell_type": "code",
   "execution_count": 5,
   "metadata": {
    "collapsed": false
   },
   "outputs": [
    {
     "data": {
      "text/html": [
       "<div>\n",
       "<table border=\"1\" class=\"dataframe\">\n",
       "  <thead>\n",
       "    <tr style=\"text-align: right;\">\n",
       "      <th></th>\n",
       "      <th>original word</th>\n",
       "      <th>stemmed</th>\n",
       "    </tr>\n",
       "  </thead>\n",
       "  <tbody>\n",
       "    <tr>\n",
       "      <th>0</th>\n",
       "      <td>caresses</td>\n",
       "      <td>caress</td>\n",
       "    </tr>\n",
       "    <tr>\n",
       "      <th>1</th>\n",
       "      <td>flies</td>\n",
       "      <td>fli</td>\n",
       "    </tr>\n",
       "    <tr>\n",
       "      <th>2</th>\n",
       "      <td>dies</td>\n",
       "      <td>die</td>\n",
       "    </tr>\n",
       "    <tr>\n",
       "      <th>3</th>\n",
       "      <td>mules</td>\n",
       "      <td>mule</td>\n",
       "    </tr>\n",
       "    <tr>\n",
       "      <th>4</th>\n",
       "      <td>denied</td>\n",
       "      <td>deni</td>\n",
       "    </tr>\n",
       "    <tr>\n",
       "      <th>5</th>\n",
       "      <td>died</td>\n",
       "      <td>die</td>\n",
       "    </tr>\n",
       "    <tr>\n",
       "      <th>6</th>\n",
       "      <td>agreed</td>\n",
       "      <td>agre</td>\n",
       "    </tr>\n",
       "    <tr>\n",
       "      <th>7</th>\n",
       "      <td>owned</td>\n",
       "      <td>own</td>\n",
       "    </tr>\n",
       "    <tr>\n",
       "      <th>8</th>\n",
       "      <td>humbled</td>\n",
       "      <td>humbl</td>\n",
       "    </tr>\n",
       "    <tr>\n",
       "      <th>9</th>\n",
       "      <td>sized</td>\n",
       "      <td>size</td>\n",
       "    </tr>\n",
       "    <tr>\n",
       "      <th>10</th>\n",
       "      <td>meeting</td>\n",
       "      <td>meet</td>\n",
       "    </tr>\n",
       "    <tr>\n",
       "      <th>11</th>\n",
       "      <td>stating</td>\n",
       "      <td>state</td>\n",
       "    </tr>\n",
       "    <tr>\n",
       "      <th>12</th>\n",
       "      <td>siezing</td>\n",
       "      <td>siez</td>\n",
       "    </tr>\n",
       "    <tr>\n",
       "      <th>13</th>\n",
       "      <td>itemization</td>\n",
       "      <td>item</td>\n",
       "    </tr>\n",
       "    <tr>\n",
       "      <th>14</th>\n",
       "      <td>sensational</td>\n",
       "      <td>sensat</td>\n",
       "    </tr>\n",
       "    <tr>\n",
       "      <th>15</th>\n",
       "      <td>traditional</td>\n",
       "      <td>tradit</td>\n",
       "    </tr>\n",
       "    <tr>\n",
       "      <th>16</th>\n",
       "      <td>reference</td>\n",
       "      <td>refer</td>\n",
       "    </tr>\n",
       "    <tr>\n",
       "      <th>17</th>\n",
       "      <td>colonizer</td>\n",
       "      <td>colon</td>\n",
       "    </tr>\n",
       "    <tr>\n",
       "      <th>18</th>\n",
       "      <td>plotted</td>\n",
       "      <td>plot</td>\n",
       "    </tr>\n",
       "  </tbody>\n",
       "</table>\n",
       "</div>"
      ],
      "text/plain": [
       "   original word stemmed\n",
       "0       caresses  caress\n",
       "1          flies     fli\n",
       "2           dies     die\n",
       "3          mules    mule\n",
       "4         denied    deni\n",
       "5           died     die\n",
       "6         agreed    agre\n",
       "7          owned     own\n",
       "8        humbled   humbl\n",
       "9          sized    size\n",
       "10       meeting    meet\n",
       "11       stating   state\n",
       "12       siezing    siez\n",
       "13   itemization    item\n",
       "14   sensational  sensat\n",
       "15   traditional  tradit\n",
       "16     reference   refer\n",
       "17     colonizer   colon\n",
       "18       plotted    plot"
      ]
     },
     "execution_count": 5,
     "metadata": {},
     "output_type": "execute_result"
    }
   ],
   "source": [
    "stemmer = SnowballStemmer('english')\n",
    "original_words = ['caresses', 'flies', 'dies', 'mules', 'denied','died', 'agreed', 'owned', \n",
    "           'humbled', 'sized','meeting', 'stating', 'siezing', 'itemization','sensational', \n",
    "           'traditional', 'reference', 'colonizer','plotted']\n",
    "singles = [stemmer.stem(plural) for plural in original_words]\n",
    "pd.DataFrame(data = {'original word': original_words, 'stemmed': singles})"
   ]
  },
  {
   "cell_type": "code",
   "execution_count": 6,
   "metadata": {
    "collapsed": true
   },
   "outputs": [],
   "source": [
    "def lemmatize_stemming(text):\n",
    "    stemmer=PorterStemmer()\n",
    "    return stemmer.stem(WordNetLemmatizer().lemmatize(text, pos='v'))\n",
    "\n",
    "def preprocess(text):\n",
    "    result = []\n",
    "    for token in gensim.utils.simple_preprocess(text):\n",
    "        if token not in gensim.parsing.preprocessing.STOPWORDS and len(token) > 3:\n",
    "            result.append(lemmatize_stemming(token))\n",
    "    return result"
   ]
  },
  {
   "cell_type": "code",
   "execution_count": 7,
   "metadata": {
    "collapsed": false,
    "scrolled": true
   },
   "outputs": [
    {
     "name": "stdout",
     "output_type": "stream",
     "text": [
      "original document: \n",
      "['rain', 'helps', 'dampen', 'bushfires']\n",
      "\n",
      "\n",
      " tokenized and lemmatized document: \n",
      "[u'rain', u'help', u'dampen', u'bushfir']\n"
     ]
    }
   ],
   "source": [
    "doc_sample = documents[documents['index'] == 4310].values[0][0]\n",
    "print('original document: ')\n",
    "words = []\n",
    "for word in doc_sample.split(' '):\n",
    "    words.append(word)\n",
    "print(words)\n",
    "print('\\n\\n tokenized and lemmatized document: ')\n",
    "print preprocess(doc_sample)"
   ]
  },
  {
   "cell_type": "code",
   "execution_count": 8,
   "metadata": {
    "collapsed": false
   },
   "outputs": [
    {
     "data": {
      "text/plain": [
       "0               [decid, commun, broadcast, licenc]\n",
       "1                               [wit, awar, defam]\n",
       "2           [call, infrastructur, protect, summit]\n",
       "3                      [staff, aust, strike, rise]\n",
       "4             [strike, affect, australian, travel]\n",
       "5               [ambiti, olsson, win, tripl, jump]\n",
       "6           [antic, delight, record, break, barca]\n",
       "7    [aussi, qualifi, stosur, wast, memphi, match]\n",
       "8            [aust, address, secur, council, iraq]\n",
       "9                         [australia, lock, timet]\n",
       "Name: headline_text, dtype: object"
      ]
     },
     "execution_count": 8,
     "metadata": {},
     "output_type": "execute_result"
    }
   ],
   "source": [
    "processed_docs = documents['headline_text'].map(preprocess)\n",
    "processed_docs[:10]"
   ]
  },
  {
   "cell_type": "code",
   "execution_count": 9,
   "metadata": {
    "collapsed": true
   },
   "outputs": [],
   "source": [
    "dictionary = gensim.corpora.Dictionary(processed_docs)"
   ]
  },
  {
   "cell_type": "code",
   "execution_count": 10,
   "metadata": {
    "collapsed": false
   },
   "outputs": [],
   "source": [
    "dictionary.filter_extremes(no_below=15, no_above=0.5, keep_n=100000)"
   ]
  },
  {
   "cell_type": "code",
   "execution_count": 11,
   "metadata": {
    "collapsed": false
   },
   "outputs": [
    {
     "name": "stdout",
     "output_type": "stream",
     "text": [
      "(0, u'mdba')\n",
      "(1, u'woodi')\n",
      "(2, u'gavar')\n",
      "(3, u'yellow')\n",
      "(4, u'interchang')\n",
      "(5, u'elvi')\n",
      "(6, u'jihad')\n",
      "(7, u'mdbp')\n",
      "(8, u'authoris')\n",
      "(9, u'reshuffl')\n",
      "(10, u'scold')\n"
     ]
    }
   ],
   "source": [
    "count = 0\n",
    "for k, v in dictionary.iteritems():\n",
    "    print(k, v)\n",
    "    count += 1\n",
    "    if count > 10:\n",
    "        break"
   ]
  },
  {
   "cell_type": "code",
   "execution_count": 12,
   "metadata": {
    "collapsed": false
   },
   "outputs": [
    {
     "data": {
      "text/plain": [
       "[(2126, 1), (5885, 1), (10948, 1), (13151, 1)]"
      ]
     },
     "execution_count": 12,
     "metadata": {},
     "output_type": "execute_result"
    }
   ],
   "source": [
    "bow_corpus = [dictionary.doc2bow(doc) for doc in processed_docs]\n",
    "bow_corpus[4310]"
   ]
  },
  {
   "cell_type": "code",
   "execution_count": 13,
   "metadata": {
    "collapsed": false
   },
   "outputs": [
    {
     "name": "stdout",
     "output_type": "stream",
     "text": [
      "Word 2126 (\"rain\") appears 1 time.\n",
      "Word 5885 (\"help\") appears 1 time.\n",
      "Word 10948 (\"dampen\") appears 1 time.\n",
      "Word 13151 (\"bushfir\") appears 1 time.\n"
     ]
    }
   ],
   "source": [
    "bow_doc_4310 = bow_corpus[4310]\n",
    "\n",
    "for i in range(len(bow_doc_4310)):\n",
    "    print(\"Word {} (\\\"{}\\\") appears {} time.\".format(bow_doc_4310[i][0], \n",
    "                                                     dictionary[bow_doc_4310[i][0]], \n",
    "                                                     bow_doc_4310[i][1]))"
   ]
  },
  {
   "cell_type": "code",
   "execution_count": 14,
   "metadata": {
    "collapsed": true
   },
   "outputs": [],
   "source": [
    "from gensim import corpora, models\n",
    "\n",
    "tfidf = models.TfidfModel(bow_corpus)"
   ]
  },
  {
   "cell_type": "code",
   "execution_count": 15,
   "metadata": {
    "collapsed": true
   },
   "outputs": [],
   "source": [
    "corpus_tfidf = tfidf[bow_corpus]"
   ]
  },
  {
   "cell_type": "code",
   "execution_count": 16,
   "metadata": {
    "collapsed": false
   },
   "outputs": [
    {
     "name": "stdout",
     "output_type": "stream",
     "text": [
      "[(2805, 0.38524510107363613),\n",
      " (3963, 0.5055678583740412),\n",
      " (8390, 0.5903602896750699),\n",
      " (10270, 0.4974556071174764)]\n"
     ]
    }
   ],
   "source": [
    "from pprint import pprint\n",
    "\n",
    "for doc in corpus_tfidf:\n",
    "    pprint(doc)\n",
    "    break"
   ]
  },
  {
   "cell_type": "code",
   "execution_count": 17,
   "metadata": {
    "collapsed": true
   },
   "outputs": [],
   "source": [
    "lda_model = gensim.models.LdaMulticore(bow_corpus, num_topics=10, id2word=dictionary, passes=2, workers=2)"
   ]
  },
  {
   "cell_type": "code",
   "execution_count": 18,
   "metadata": {
    "collapsed": false
   },
   "outputs": [
    {
     "name": "stdout",
     "output_type": "stream",
     "text": [
      "Topic: 0 \n",
      "Words: 0.027*queensland + 0.021*north + 0.019*warn + 0.015*tasmanian + 0.015*chang + 0.014*west + 0.012*victoria + 0.011*flood + 0.011*busi + 0.010*game\n",
      "Topic: 1 \n",
      "Words: 0.015*health + 0.015*fund + 0.015*rural + 0.013*indigen + 0.013*help + 0.012*commun + 0.012*servic + 0.011*farmer + 0.011*need + 0.010*say\n",
      "Topic: 2 \n",
      "Words: 0.031*govern + 0.026*australia + 0.024*attack + 0.021*kill + 0.020*australian + 0.016*south + 0.015*donald + 0.013*turnbul + 0.011*protest + 0.011*citi\n",
      "Topic: 3 \n",
      "Words: 0.023*perth + 0.023*canberra + 0.017*tasmania + 0.014*life + 0.013*sentenc + 0.012*case + 0.012*farm + 0.011*prison + 0.011*week + 0.010*question\n",
      "Topic: 4 \n",
      "Words: 0.054*polic + 0.025*death + 0.020*crash + 0.019*melbourn + 0.018*die + 0.017*interview + 0.016*miss + 0.016*shoot + 0.014*woman + 0.013*women\n",
      "Topic: 5 \n",
      "Words: 0.035*charg + 0.033*court + 0.023*murder + 0.021*face + 0.017*accus + 0.015*child + 0.015*alleg + 0.014*claim + 0.014*break + 0.013*jail\n",
      "Topic: 6 \n",
      "Words: 0.029*sydney + 0.018*open + 0.017*world + 0.015*live + 0.015*final + 0.014*win + 0.012*coast + 0.012*gold + 0.011*leagu + 0.010*australian\n",
      "Topic: 7 \n",
      "Words: 0.034*trump + 0.027*elect + 0.014*say + 0.014*labor + 0.013*call + 0.012*deal + 0.011*meet + 0.010*polit + 0.010*vote + 0.010*senat\n",
      "Topic: 8 \n",
      "Words: 0.023*school + 0.017*hour + 0.014*plan + 0.013*nation + 0.012*rise + 0.012*park + 0.012*news + 0.011*work + 0.010*power + 0.010*council\n",
      "Topic: 9 \n",
      "Words: 0.033*year + 0.018*market + 0.017*countri + 0.013*record + 0.013*share + 0.013*peopl + 0.012*australian + 0.012*student + 0.011*fall + 0.010*royal\n"
     ]
    }
   ],
   "source": [
    "for idx, topic in lda_model.print_topics(-1):\n",
    "    print('Topic: {} \\nWords: {}'.format(idx, topic))"
   ]
  },
  {
   "cell_type": "code",
   "execution_count": 19,
   "metadata": {
    "collapsed": true
   },
   "outputs": [],
   "source": [
    "lda_model_tfidf = gensim.models.LdaMulticore(corpus_tfidf, num_topics=10, id2word=dictionary, passes=2, workers=4)"
   ]
  },
  {
   "cell_type": "code",
   "execution_count": 20,
   "metadata": {
    "collapsed": false
   },
   "outputs": [
    {
     "name": "stdout",
     "output_type": "stream",
     "text": [
      "Topic: 0 Word: 0.014*market + 0.010*news + 0.009*price + 0.008*share + 0.008*weather + 0.008*rise + 0.006*australian + 0.006*busi + 0.005*christma + 0.005*fall\n",
      "Topic: 1 Word: 0.009*govern + 0.009*drum + 0.007*grandstand + 0.007*sport + 0.006*fund + 0.006*plan + 0.005*council + 0.005*rail + 0.004*green + 0.004*care\n",
      "Topic: 2 Word: 0.012*podcast + 0.008*plead + 0.007*guilti + 0.007*wednesday + 0.007*tuesday + 0.006*dairi + 0.005*retir + 0.005*decemb + 0.005*father + 0.005*interview\n",
      "Topic: 3 Word: 0.022*countri + 0.020*hour + 0.008*live + 0.006*mental + 0.006*korea + 0.006*health + 0.005*export + 0.005*program + 0.004*know + 0.004*say\n",
      "Topic: 4 Word: 0.008*queensland + 0.007*victoria + 0.007*friday + 0.006*drought + 0.006*flood + 0.006*hobart + 0.006*rain + 0.006*storm + 0.006*june + 0.005*australia\n",
      "Topic: 5 Word: 0.023*rural + 0.007*novemb + 0.007*peter + 0.006*young + 0.005*australia + 0.005*univers + 0.005*foreign + 0.005*grow + 0.005*futur + 0.005*say\n",
      "Topic: 6 Word: 0.019*trump + 0.010*turnbul + 0.007*marriag + 0.007*michael + 0.006*asylum + 0.006*david + 0.006*sexual + 0.005*stori + 0.005*liber + 0.005*seeker\n",
      "Topic: 7 Word: 0.010*donald + 0.009*leagu + 0.008*tasmania + 0.008*victorian + 0.007*septemb + 0.006*climat + 0.006*monday + 0.006*mark + 0.005*world + 0.005*syria\n",
      "Topic: 8 Word: 0.011*interview + 0.007*juli + 0.006*court + 0.006*malcolm + 0.006*kill + 0.006*australia + 0.006*ash + 0.006*islam + 0.005*terror + 0.005*test\n",
      "Topic: 9 Word: 0.018*polic + 0.014*charg + 0.014*crash + 0.012*woman + 0.010*murder + 0.009*death + 0.009*shoot + 0.008*driver + 0.008*jail + 0.008*court\n"
     ]
    }
   ],
   "source": [
    "for idx, topic in lda_model_tfidf.print_topics(-1):\n",
    "    print('Topic: {} Word: {}'.format(idx, topic))"
   ]
  },
  {
   "cell_type": "code",
   "execution_count": 21,
   "metadata": {
    "collapsed": false
   },
   "outputs": [
    {
     "data": {
      "text/plain": [
       "[u'rain', u'help', u'dampen', u'bushfir']"
      ]
     },
     "execution_count": 21,
     "metadata": {},
     "output_type": "execute_result"
    }
   ],
   "source": [
    "processed_docs[4310]"
   ]
  },
  {
   "cell_type": "code",
   "execution_count": 22,
   "metadata": {
    "collapsed": false
   },
   "outputs": [
    {
     "name": "stdout",
     "output_type": "stream",
     "text": [
      "\n",
      "Score: 0.619929014035\t \n",
      "Topic: 0.027*queensland + 0.021*north + 0.019*warn + 0.015*tasmanian + 0.015*chang + 0.014*west + 0.012*victoria + 0.011*flood + 0.011*busi + 0.010*game\n",
      "\n",
      "Score: 0.220057543066\t \n",
      "Topic: 0.023*perth + 0.023*canberra + 0.017*tasmania + 0.014*life + 0.013*sentenc + 0.012*case + 0.012*farm + 0.011*prison + 0.011*week + 0.010*question\n",
      "\n",
      "Score: 0.0200109919823\t \n",
      "Topic: 0.015*health + 0.015*fund + 0.015*rural + 0.013*indigen + 0.013*help + 0.012*commun + 0.012*servic + 0.011*farmer + 0.011*need + 0.010*say\n",
      "\n",
      "Score: 0.0200012265798\t \n",
      "Topic: 0.054*polic + 0.025*death + 0.020*crash + 0.019*melbourn + 0.018*die + 0.017*interview + 0.016*miss + 0.016*shoot + 0.014*woman + 0.013*women\n",
      "\n",
      "Score: 0.020001093648\t \n",
      "Topic: 0.033*year + 0.018*market + 0.017*countri + 0.013*record + 0.013*share + 0.013*peopl + 0.012*australian + 0.012*student + 0.011*fall + 0.010*royal\n",
      "\n",
      "Score: 0.0200001306839\t \n",
      "Topic: 0.029*sydney + 0.018*open + 0.017*world + 0.015*live + 0.015*final + 0.014*win + 0.012*coast + 0.012*gold + 0.011*leagu + 0.010*australian\n",
      "\n",
      "Score: 0.0200000000015\t \n",
      "Topic: 0.035*charg + 0.033*court + 0.023*murder + 0.021*face + 0.017*accus + 0.015*child + 0.015*alleg + 0.014*claim + 0.014*break + 0.013*jail\n",
      "\n",
      "Score: 0.0200000000013\t \n",
      "Topic: 0.023*school + 0.017*hour + 0.014*plan + 0.013*nation + 0.012*rise + 0.012*park + 0.012*news + 0.011*work + 0.010*power + 0.010*council\n",
      "\n",
      "Score: 0.0200000000011\t \n",
      "Topic: 0.034*trump + 0.027*elect + 0.014*say + 0.014*labor + 0.013*call + 0.012*deal + 0.011*meet + 0.010*polit + 0.010*vote + 0.010*senat\n",
      "\n",
      "Score: 0.0200000000011\t \n",
      "Topic: 0.031*govern + 0.026*australia + 0.024*attack + 0.021*kill + 0.020*australian + 0.016*south + 0.015*donald + 0.013*turnbul + 0.011*protest + 0.011*citi\n"
     ]
    }
   ],
   "source": [
    "for index, score in sorted(lda_model[bow_corpus[4310]], key=lambda tup: -1*tup[1]):\n",
    "    print(\"\\nScore: {}\\t \\nTopic: {}\".format(score, lda_model.print_topic(index, 10)))"
   ]
  },
  {
   "cell_type": "code",
   "execution_count": 23,
   "metadata": {
    "collapsed": false
   },
   "outputs": [
    {
     "name": "stdout",
     "output_type": "stream",
     "text": [
      "\n",
      "Score: 0.562866996195\t \n",
      "Topic: 0.008*queensland + 0.007*victoria + 0.007*friday + 0.006*drought + 0.006*flood + 0.006*hobart + 0.006*rain + 0.006*storm + 0.006*june + 0.005*australia\n",
      "\n",
      "Score: 0.277123232692\t \n",
      "Topic: 0.014*market + 0.010*news + 0.009*price + 0.008*share + 0.008*weather + 0.008*rise + 0.006*australian + 0.006*busi + 0.005*christma + 0.005*fall\n",
      "\n",
      "Score: 0.0200019367436\t \n",
      "Topic: 0.022*countri + 0.020*hour + 0.008*live + 0.006*mental + 0.006*korea + 0.006*health + 0.005*export + 0.005*program + 0.004*know + 0.004*say\n",
      "\n",
      "Score: 0.0200015714852\t \n",
      "Topic: 0.009*govern + 0.009*drum + 0.007*grandstand + 0.007*sport + 0.006*fund + 0.006*plan + 0.005*council + 0.005*rail + 0.004*green + 0.004*care\n",
      "\n",
      "Score: 0.0200015531603\t \n",
      "Topic: 0.018*polic + 0.014*charg + 0.014*crash + 0.012*woman + 0.010*murder + 0.009*death + 0.009*shoot + 0.008*driver + 0.008*jail + 0.008*court\n",
      "\n",
      "Score: 0.0200014854431\t \n",
      "Topic: 0.012*podcast + 0.008*plead + 0.007*guilti + 0.007*wednesday + 0.007*tuesday + 0.006*dairi + 0.005*retir + 0.005*decemb + 0.005*father + 0.005*interview\n",
      "\n",
      "Score: 0.0200012483681\t \n",
      "Topic: 0.023*rural + 0.007*novemb + 0.007*peter + 0.006*young + 0.005*australia + 0.005*univers + 0.005*foreign + 0.005*grow + 0.005*futur + 0.005*say\n",
      "\n",
      "Score: 0.0200009131981\t \n",
      "Topic: 0.010*donald + 0.009*leagu + 0.008*tasmania + 0.008*victorian + 0.007*septemb + 0.006*climat + 0.006*monday + 0.006*mark + 0.005*world + 0.005*syria\n",
      "\n",
      "Score: 0.020000545996\t \n",
      "Topic: 0.019*trump + 0.010*turnbul + 0.007*marriag + 0.007*michael + 0.006*asylum + 0.006*david + 0.006*sexual + 0.005*stori + 0.005*liber + 0.005*seeker\n",
      "\n",
      "Score: 0.020000516718\t \n",
      "Topic: 0.011*interview + 0.007*juli + 0.006*court + 0.006*malcolm + 0.006*kill + 0.006*australia + 0.006*ash + 0.006*islam + 0.005*terror + 0.005*test\n"
     ]
    }
   ],
   "source": [
    "for index, score in sorted(lda_model_tfidf[bow_corpus[4310]], key=lambda tup: -1*tup[1]):\n",
    "    print(\"\\nScore: {}\\t \\nTopic: {}\".format(score, lda_model_tfidf.print_topic(index, 10)))"
   ]
  },
  {
   "cell_type": "code",
   "execution_count": 24,
   "metadata": {
    "collapsed": false
   },
   "outputs": [
    {
     "name": "stdout",
     "output_type": "stream",
     "text": [
      "Score: 0.293450485529\t Topic: 0.034*trump + 0.027*elect + 0.014*say + 0.014*labor + 0.013*call\n",
      "Score: 0.239877715838\t Topic: 0.031*govern + 0.026*australia + 0.024*attack + 0.021*kill + 0.020*australian\n",
      "Score: 0.183333334985\t Topic: 0.033*year + 0.018*market + 0.017*countri + 0.013*record + 0.013*share\n",
      "Score: 0.1833330023\t Topic: 0.035*charg + 0.033*court + 0.023*murder + 0.021*face + 0.017*accus\n",
      "Score: 0.0166717946987\t Topic: 0.015*health + 0.015*fund + 0.015*rural + 0.013*indigen + 0.013*help\n",
      "Score: 0.0166669999745\t Topic: 0.054*polic + 0.025*death + 0.020*crash + 0.019*melbourn + 0.018*die\n",
      "Score: 0.0166666666688\t Topic: 0.023*perth + 0.023*canberra + 0.017*tasmania + 0.014*life + 0.013*sentenc\n",
      "Score: 0.0166666666687\t Topic: 0.023*school + 0.017*hour + 0.014*plan + 0.013*nation + 0.012*rise\n",
      "Score: 0.0166666666685\t Topic: 0.027*queensland + 0.021*north + 0.019*warn + 0.015*tasmanian + 0.015*chang\n",
      "Score: 0.0166666666683\t Topic: 0.029*sydney + 0.018*open + 0.017*world + 0.015*live + 0.015*final\n"
     ]
    }
   ],
   "source": [
    "unseen_document = 'How a Pentagon deal became an identity crisis for Google'\n",
    "bow_vector = dictionary.doc2bow(preprocess(unseen_document))\n",
    "\n",
    "for index, score in sorted(lda_model[bow_vector], key=lambda tup: -1*tup[1]):\n",
    "    print(\"Score: {}\\t Topic: {}\".format(score, lda_model.print_topic(index, 5)))"
   ]
  },
  {
   "cell_type": "code",
   "execution_count": null,
   "metadata": {
    "collapsed": true
   },
   "outputs": [],
   "source": []
  }
 ],
 "metadata": {
  "kernelspec": {
   "display_name": "Python [Root]",
   "language": "python",
   "name": "Python [Root]"
  },
  "language_info": {
   "codemirror_mode": {
    "name": "ipython",
    "version": 2
   },
   "file_extension": ".py",
   "mimetype": "text/x-python",
   "name": "python",
   "nbconvert_exporter": "python",
   "pygments_lexer": "ipython2",
   "version": "2.7.12"
  }
 },
 "nbformat": 4,
 "nbformat_minor": 0
}
